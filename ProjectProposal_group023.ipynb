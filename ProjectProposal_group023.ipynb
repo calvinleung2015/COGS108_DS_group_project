{
 "cells": [
  {
   "cell_type": "markdown",
   "metadata": {},
   "source": [
    "# COGS 108 - Final Project Proposal"
   ]
  },
  {
   "cell_type": "markdown",
   "metadata": {},
   "source": [
    "# Names\n",
    "\n",
    "- Cassandra Henrickson\n",
    "- Daniel Han\n",
    "- Jasmine Qiang\n",
    "- Ezra Lu\n",
    "- Wing Leung (Calvin)"
   ]
  },
  {
   "cell_type": "markdown",
   "metadata": {},
   "source": [
    "# Research Question"
   ]
  },
  {
   "cell_type": "markdown",
   "metadata": {},
   "source": [
    "Is there a relationship between the frequency of car accidents and the weather and time of day the accident took place?"
   ]
  },
  {
   "cell_type": "markdown",
   "metadata": {},
   "source": [
    "## Background and Prior Work"
   ]
  },
  {
   "cell_type": "markdown",
   "metadata": {},
   "source": [
    "*Fill in your background and prior work here. Be sure to specify which statements are from which references.* \n",
    "\n",
    "- **Why is this a question of interest to your group?**\n",
    "\n",
    "In California, the main mode of transportation is automobiles. If you want to get to any place in California, the easiest way would be to do so. However, because of how prevalent driving is in California, more cars on the street means there is a greater chance that you'll be more likely to be involved in an accident at least once in your life. As students of a university in California, it is important to us that we know how safe we are on the road as driving will be a frequent and significant part of our lives.\n",
    "\n",
    "Car accidents can lead to injury or even death, which is why it is very important to know how to drive in certain weather conditions and time of day. It is crucial to analyze car accident data and learn what factors can influence the likelihood of a car accident to help drivers feel safer on the roads. Driving at night, due to factors including alcohol consumption, higher speeds, and tiredness, can cause potentially dangerous driving conditions [1]. Weather changes, such as sudden rain, creates hazardous road conditions that can lead to someone losing control of their vehicle and harm themselves and others on the road.\n",
    "\n",
    "California does not have too much weather variation, so we wanted to see if habituation to driving in clear, dry weather impacts the frequency of car accidents when the weather changes, as driving on the roads is much more dangerous when it starts to rain. Because of the lack of weather variation in California, many Californians are not well versed in driving in the rain, thus leading to more accidents [4]. This analysis would not only be helpful for us but for others - residents and vistors of California - to feel safer driving in California if everyone can learn when to adapt one's driving in more hazardous conditions and potentially prevent a car crash and subsequent harm. \n",
    "\n",
    "We aim to find if there was a specific time or weather condition that predicts the likelihood of a car accident on roads on which we personally drive. If we can find a relationship between how weather and time of day factor into a car crash, and the frequency of accidents, it can help give California drivers insight into when to be more cautious or to avoid driving.\n",
    "\n",
    "- **Prior Work**\n",
    "\n",
    "Data pulled from Traffic APIs, has given a dataset comprised of real-time car accident data with variables including weather, severity of traffic impact, time of the accident, and the location of the accident [2,3]. The prediction we want to answer (whether rain and time of day are correlated with higher crash frequency) can directly use the weather and time variables from that data to help carry out our analysis. \n",
    "\n",
    "References (include links):\n",
    "- 1) https://www.usatoday.com/story/money/nation-now/2018/05/26/driving-car-crash-deaths-speeding/640781002/\n",
    "- 2) https://www.kaggle.com/sobhanmoosavi/us-accidents\n",
    "- 3) https://smoosavi.org/datasets/us_accidents\n",
    "- 4) https://www.hg.org/legal-articles/common-causes-of-road-accidents-in-california-during-rainy-season-24869"
   ]
  },
  {
   "cell_type": "markdown",
   "metadata": {},
   "source": [
    "# Hypothesis\n"
   ]
  },
  {
   "cell_type": "markdown",
   "metadata": {},
   "source": [
    "The frequency of car accidents in California is higher if it is rainy and between 6am to 9am and 5pm to 8pm when a car crash takes place. We believe that more car accidents will occur during these weather condition and timeframes because Californians are not accustomed to driving in the rain [4] and between the times we have listed it is considered to be \"rush hour\" and thus more people are driving on the roads."
   ]
  },
  {
   "cell_type": "markdown",
   "metadata": {},
   "source": [
    "# Data"
   ]
  },
  {
   "cell_type": "markdown",
   "metadata": {},
   "source": [
    "*Explain what the ideal dataset you would want to answer this question. (This should include: What variables? How many observations? Who/what/how would these data be collected? How would these data be stored/organized?)*\n",
    "\n",
    "The ideal dataset would be one that included the total number of car crashes (and thus total number of observations) in California for several years. The variables would include the time of day the crash took place, the number of crashes, and the type of weather during the crash. The ideal source of the data would be from an online mapping system, such as geographic information systems (MapQuest, Google Maps, etc). The data would be stored in some form of spreadsheet.  "
   ]
  },
  {
   "cell_type": "markdown",
   "metadata": {},
   "source": [
    "# Ethics & Privacy"
   ]
  },
  {
   "cell_type": "markdown",
   "metadata": {},
   "source": [
    "*Fill in your ethics & privacy discussion here*\n",
    "- **Do you have permission to use this data?**\n",
    "\n",
    "The dataset we plan on using is distributed for non-commercial, research, or academic applications under Creative Commons Attribution-Noncommercial-ShareAlike license (CC BY-NC-SA 4.0). This dataset was free to download as long as it is used non-commercially for research or academic purposes. \n",
    "\n",
    "- **Are there privacy concerns regarding your datasets that you need to deal with, and/or terms of use that you need to comply with?**\n",
    "\n",
    "All of the data retrieved from this dataset has already been anonymized. Details from the recorded accidents regarding the persons involved are not recorded in the data. The data in this dataset are collected using 2 traffic APIs that broadcast traffic events captured by a variety of entities, such as the US and state departments of transportation, law enforcement agencies, traffic cameras, and traffic sensors within the road-networks.\n",
    "\n",
    "- **Are there potential biases in your dataset(s), in terms of who composes, and how it was collected, that may be problematic in terms of it allowing for equitable analysis?**\n",
    "\n",
    "Some potential biases may include how the APIs collect the information. Because the data is based on the severity of traffic due to accidents, small car accidents that don't cause traffic may go unreported in the data as police involvement is not required. Also, because the incidents recorded in the dataset are based on traffic severity, large car accidents that occur on empty roads with no other cars may go unrecorded as it does not impact traffic. \n",
    "\n",
    "- **Are there any other issues related to your topic area, data, and/or analysis that are potentially problematic in terms of data privacy and equitable impact?**\n",
    "\n",
    "The dataset has a lot of third parties/contributors who can manipulate the data. Because of the number of contributors, the scale for \"severity\" could be different for each person and thus hard to narrow down a precise definition. How severity is dictated is not explicitly clear in the dataset. \n",
    "\n",
    "Any information pertaining to the identities of those involved in the accidents recorded in the dataset is not included. Although the dataset records the city of where the accident took place and when the accident had occurred, it would be very unlikely that the information recorded in the dataset could be used to locate or identify any persons involved."
   ]
  },
  {
   "cell_type": "markdown",
   "metadata": {},
   "source": [
    "# Team Expectations "
   ]
  },
  {
   "cell_type": "markdown",
   "metadata": {},
   "source": [
    "- Cassandra Henrickson\n",
    "    - Search for the dataset online\n",
    "    - Data Visualization\n",
    "    - Data Analysis\n",
    "    - Proofreading\n",
    "- Daniel Han\n",
    "    - Search for the dataset online\n",
    "    - Data Analysis\n",
    "    - Write the report\n",
    "    - Proofreading\n",
    "- Jasmine Qiang\n",
    "    - Search for the dataset online\n",
    "    - Data Cleaning\n",
    "    - Data Visualization\n",
    "    - Analysis\n",
    "- Ezra Lu\n",
    "    - Search for the dataset online\n",
    "    - Data Cleaning\n",
    "    - Write the report\n",
    "    - Data Analysis\n",
    "- Calvin Leung\n",
    "    - Search for the dataset online\n",
    "    - Data Visualization\n",
    "    - Data Cleaning\n",
    "    - Data Analaysis"
   ]
  },
  {
   "cell_type": "markdown",
   "metadata": {},
   "source": [
    "# Project Timeline Proposal"
   ]
  },
  {
   "cell_type": "markdown",
   "metadata": {},
   "source": [
    "| Meeting Date  | Meeting Time| Completed Before Meeting  | Discuss at Meeting |\n",
    "|---|---|---|---|\n",
    "| 1/20  |  7 PM | Read & Think about COGS 108 expectations; brainstorm topics/questions  | Determine best form of communication; Discuss and decide on final project topic; discuss hypothesis; begin background research | \n",
    "| 1/27  |  7 PM |  Do background research on topic | Discuss ideal dataset(s) and ethics; draft project proposal | \n",
    "| 2/3  | 7 PM  | Edit, finalize, and submit proposal; Search for datasets  | Discuss Wrangling and possible analytical approaches; Assign group members to lead each specific part   |\n",
    "| 2/10  | 7 PM    |  finish finding data and writing code, etc | Discuss/edit, complete check-in 1: Data|\n",
    "| 2/17  | 7 PM    | Import & Wrangle Data; EDA | Review/Edit wrangling/EDA; Discuss Analysis Plan   |\n",
    "| 2/24  | 7 PM   | Finalize wrangling/EDA; Begin Analysis  | Discuss/edit Analysis; Complete project check-in: EDA |\n",
    "| 3/03  | 7 PM   | more analysis; Draft results/conclusion/discussion | Discuss/edit full project |\n",
    "| 3/10  | 7 PM   | Complete analysis; Draft results/conclusion/discussion | Discuss/edit full project |\n",
    "| 3/17  | Before 11:59 PM  | NA | Turn in Final Project & Group Project Surveys |"
   ]
  }
 ],
 "metadata": {
  "kernelspec": {
   "display_name": "Python 3",
   "language": "python",
   "name": "python3"
  },
  "language_info": {
   "codemirror_mode": {
    "name": "ipython",
    "version": 3
   },
   "file_extension": ".py",
   "mimetype": "text/x-python",
   "name": "python",
   "nbconvert_exporter": "python",
   "pygments_lexer": "ipython3",
   "version": "3.8.5"
  }
 },
 "nbformat": 4,
 "nbformat_minor": 2
}
