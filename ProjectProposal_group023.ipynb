{
 "cells": [
  {
   "cell_type": "markdown",
   "metadata": {},
   "source": [
    "# COGS 108 - Final Project Proposal"
   ]
  },
  {
   "cell_type": "markdown",
   "metadata": {},
   "source": [
    "# Names\n",
    "\n",
    "- Cassandra Henrickson\n",
    "- Daniel Han\n",
    "- Jasmine Qiang\n",
    "- Ezra Lu\n",
    "- Wing Leung (Calvin)"
   ]
  },
  {
   "cell_type": "markdown",
   "metadata": {},
   "source": [
    "# Research Question"
   ]
  },
  {
   "cell_type": "markdown",
   "metadata": {},
   "source": [
    "Is there a relationship between the frequency of car accidents and the weather and time of day the accident took place?"
   ]
  },
  {
   "cell_type": "markdown",
   "metadata": {},
   "source": [
    "## Background and Prior Work"
   ]
  },
  {
   "cell_type": "markdown",
   "metadata": {},
   "source": [
    "*Fill in your background and prior work here. Be sure to specify which statements are from which references.* \n",
    "\n",
    "- Why is this a question of interest to your group?\n",
    "\n",
    "Car accidents can lead to injury or even death. Analyzing car accident data to learn what factors can influence the likelihood of a car accident can help drivers feel safer on the roads. Driving at night, due to factors including alcohol consumption, higher speeds, and tiredness, can cause potentially dangerous driving conditions [1]. Weather changes, such as rain, can cause hazardous road conditions that increase the likeihood of a car crash. If we can find a relationship between how weather and time of day factor into a car crash, and the frequency of accidents, it can help give California drivers insight into when to be more cautious or to avoid driving. \n",
    "\n",
    "- Why California?\n",
    "\n",
    "As students at university in California, we wanted to find if there was a specific time or weather condition that predicts the likelihood of a car accident on roads on which we personally drive. California's main mode of transportation is vehicles and thus there is a lot of car crash data. California does not have too much weather variation, so we wanted to see if habituation to driving in clear, dry weather impacts the frequency of car accidents when the weather changes, as driving on the roads is much more dangerous when it starts to rain. This analysis would not only be helpful for us but for others - residents and vistors of California - to feel safer driving in California and to learn when to adapt one's driving in more hazardous conditions. \n",
    "\n",
    "- Prior Work\n",
    "\n",
    "Prior work has given a dataset comprised of real-time car accident data with variables including weather, severity of traffic impact, time of the accident, and the location of the accident [2,3]. The prediction we want to answer (whether rain and time of day are correlated with higher crash frequency) can directly use the weather and time variables from that data to help carry out our analysis. \n",
    "\n",
    "References (include links):\n",
    "- 1) https://www.usatoday.com/story/money/nation-now/2018/05/26/driving-car-crash-deaths-speeding/640781002/\n",
    "- 2) https://www.kaggle.com/sobhanmoosavi/us-accidents\n",
    "- 3) https://smoosavi.org/datasets/us_accidents"
   ]
  },
  {
   "cell_type": "markdown",
   "metadata": {},
   "source": [
    "# Hypothesis\n"
   ]
  },
  {
   "cell_type": "markdown",
   "metadata": {},
   "source": [
    "The frequency of car accidents in California is higher if it is rainy and between 12 am and 8 am when a car crash takes place."
   ]
  },
  {
   "cell_type": "markdown",
   "metadata": {},
   "source": [
    "# Data"
   ]
  },
  {
   "cell_type": "markdown",
   "metadata": {},
   "source": [
    "*Explain what the ideal dataset you would want to answer this question. (This should include: What variables? How many observations? Who/what/how would these data be collected? How would these data be stored/organized?)*\n",
    "\n",
    "The ideal dataset would be one that included the total number of car crashes (and thus total number of observations) in California for several years. The variables would include the time of day the crash took place, the number of crashes, and the type of weather during the crash. The ideal source of the data would be from an online mapping system, such as geographic information systems (MapQuest, Google Maps, etc). The data would be stored in some form of spreadsheet.  "
   ]
  },
  {
   "cell_type": "markdown",
   "metadata": {},
   "source": [
    "# Ethics & Privacy"
   ]
  },
  {
   "cell_type": "markdown",
   "metadata": {},
   "source": [
    "*Fill in your ethics & privacy discussion here*\n",
    "\n",
    "We would ensure the privacy of those in the accidents, including car details, would be anonymized and taken out of the data. "
   ]
  },
  {
   "cell_type": "markdown",
   "metadata": {},
   "source": [
    "# Team Expectations "
   ]
  },
  {
   "cell_type": "markdown",
   "metadata": {},
   "source": [
    "- Cassandra Henrickson\n",
    "    - Search for the dataset online\n",
    "    - Data Visualization\n",
    "    - Data Analysis\n",
    "    - Proofreading\n",
    "- Daniel Han\n",
    "    - Search for the dataset online\n",
    "    - Data Analysis\n",
    "    - Write the report\n",
    "    - Proofreading\n",
    "- Jasmine Qiang\n",
    "    - Search for the dataset online\n",
    "    - Data Cleaning\n",
    "    - Data Visualization\n",
    "    - Analysis\n",
    "- Ezra Lu\n",
    "    - Search for the dataset online\n",
    "    - Data Cleaning\n",
    "    - Write the report\n",
    "    - Data Analysis\n",
    "- Calvin Leung\n",
    "    - Search for the dataset online\n",
    "    - Data Visualization\n",
    "    - Data Cleaning\n",
    "    - Data Analaysis"
   ]
  },
  {
   "cell_type": "markdown",
   "metadata": {},
   "source": [
    "# Project Timeline Proposal"
   ]
  },
  {
   "cell_type": "markdown",
   "metadata": {},
   "source": [
    "| Meeting Date  | Meeting Time| Completed Before Meeting  | Discuss at Meeting |\n",
    "|---|---|---|---|\n",
    "| 1/20  |  7 PM | Read & Think about COGS 108 expectations; brainstorm topics/questions  | Determine best form of communication; Discuss and decide on final project topic; discuss hypothesis; begin background research | \n",
    "| 1/27  |  7 PM |  Do background research on topic | Discuss ideal dataset(s) and ethics; draft project proposal | \n",
    "| 2/3  | 7 PM  | Edit, finalize, and submit proposal; Search for datasets  | Discuss Wrangling and possible analytical approaches; Assign group members to lead each specific part   |\n",
    "| 2/10  | 7 PM    |  TBD | Discuss/edit, complete check-in 1|\n",
    "| 2/17  | 7 PM    | Import & Wrangle Data; EDA | Review/Edit wrangling/EDA; Discuss Analysis Plan   |\n",
    "| 2/24  | 7 PM   | Finalize wrangling/EDA; Begin Analysis  | Discuss/edit Analysis; Complete project check-in |\n",
    "| 3/03  | 7 PM   | more analysis; Draft results/conclusion/discussion | Discuss/edit full project |\n",
    "| 3/10  | 7 PM   | Complete analysis; Draft results/conclusion/discussion | Discuss/edit full project |\n",
    "| 3/17  | Before 11:59 PM  | NA | Turn in Final Project & Group Project Surveys |"
   ]
  }
 ],
 "metadata": {
  "kernelspec": {
   "display_name": "Python 3",
   "language": "python",
   "name": "python3"
  },
  "language_info": {
   "codemirror_mode": {
    "name": "ipython",
    "version": 3
   },
   "file_extension": ".py",
   "mimetype": "text/x-python",
   "name": "python",
   "nbconvert_exporter": "python",
   "pygments_lexer": "ipython3",
   "version": "3.8.5"
  }
 },
 "nbformat": 4,
 "nbformat_minor": 2
}
