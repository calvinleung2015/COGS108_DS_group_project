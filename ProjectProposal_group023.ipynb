{
 "cells": [
  {
   "cell_type": "markdown",
   "metadata": {},
   "source": [
    "# COGS 108 - Final Project Proposal"
   ]
  },
  {
   "cell_type": "markdown",
   "metadata": {},
   "source": [
    "# Names\n",
    "\n",
    "- Cassandra Henrickson\n",
    "- Daniel Han\n",
    "- Jasmine Qiang\n",
    "- Ezra Lu\n",
    "- Calvin Leung"
   ]
  },
  {
   "cell_type": "markdown",
   "metadata": {},
   "source": [
    "# Research Question"
   ]
  },
  {
   "cell_type": "markdown",
   "metadata": {},
   "source": [
    "Is there a relationship between the severity of traffic as a result of a car crash and the weather and time of day the accident took place?"
   ]
  },
  {
   "cell_type": "markdown",
   "metadata": {},
   "source": [
    "## Background and Prior Work"
   ]
  },
  {
   "cell_type": "markdown",
   "metadata": {},
   "source": [
    "*Fill in your background and prior work here. Be sure to specify which statements are from which references.* \n",
    "\n",
    "- Why is this question of interest to your group?\n",
    "\n",
    "Analyzing car crash data in California to learn about whether there is a more dangerous time of day to be on the road is important for feeling safe while driving. If we can find a relationship between the variables that factor into a car crash and the severity of its impact on traffic, we can find a way to give California drivers a better knowledge of when to be more cautious while driving. \n",
    "\n",
    "- Why California?\n",
    "\n",
    "California's main mode of transportation is vehicles and thus there is a lot of data about car accidents. All of us go to school in California and have experience with California traffic and the impact car crashes have on driving times. \n",
    "\n",
    "- Prior Work\n",
    "\n",
    "A prior dataset about US car crashes gives insight into various factors  at the time of a car accident in California for the last few years...\n",
    "\n",
    "References (include links):\n",
    "- 1) https://www.kaggle.com/sobhanmoosavi/us-accidents\n",
    "- 2) https://smoosavi.org/datasets/us_accidents"
   ]
  },
  {
   "cell_type": "markdown",
   "metadata": {},
   "source": [
    "# Hypothesis\n"
   ]
  },
  {
   "cell_type": "markdown",
   "metadata": {},
   "source": [
    "The severity of traffic in CA is higher if it is rainy and between 12 am and 8 am when a car crash takes place."
   ]
  },
  {
   "cell_type": "markdown",
   "metadata": {},
   "source": [
    "# Data"
   ]
  },
  {
   "cell_type": "markdown",
   "metadata": {},
   "source": [
    "*Explain what the ideal dataset you would want to answer this question. (This should include: What variables? How many observations? Who/what/how would these data be collected? How would these data be stored/organized?)*\n",
    "\n",
    "The ideal dataset would be one that included the total number of car crashes (and thus total number of observations) in California for several years. The variables would include the time of day the crash took place, the severity, and the type of weather during the crash. The ideal source of the data would be from an online mapping system, such as geographic information systems (MapQuest, Google Maps, etc). The data would be stored in some form of spreadsheet.  "
   ]
  },
  {
   "cell_type": "markdown",
   "metadata": {},
   "source": [
    "# Ethics & Privacy"
   ]
  },
  {
   "cell_type": "markdown",
   "metadata": {},
   "source": [
    "*Fill in your ethics & privacy discussion here*\n",
    "\n",
    "We would ensure the privacy of those in the accidents, including car details, would be anonymized and taken out of the data. "
   ]
  },
  {
   "cell_type": "markdown",
   "metadata": {},
   "source": [
    "# Team Expectations "
   ]
  },
  {
   "cell_type": "markdown",
   "metadata": {},
   "source": [
    "- Cassandra Henrickson\n",
    "    - Search for the dataset online\n",
    "    - Data Visualization\n",
    "    - Data Analysis\n",
    "    - Proofreading\n",
    "- Daniel Han\n",
    "    - Search for the dataset online\n",
    "    - Data Analysis\n",
    "    - Write the report\n",
    "    - Proofreading\n",
    "- Jasmine Qiang\n",
    "    - Search for the dataset online\n",
    "    - Data Cleaning\n",
    "    - Data Visualization\n",
    "    - Analysis\n",
    "- Ezra Lu\n",
    "    - Search for the dataset online\n",
    "    - Data Cleaning\n",
    "    - Write the report\n",
    "    - Data Analysis\n",
    "- Calvin Leung\n",
    "    - Search for the dataset online\n",
    "    - Data Visualization\n",
    "    - Data Cleaning\n",
    "    - Data Analaysis"
   ]
  },
  {
   "cell_type": "markdown",
   "metadata": {},
   "source": [
    "# Project Timeline Proposal"
   ]
  },
  {
   "cell_type": "markdown",
   "metadata": {},
   "source": [
    "| Meeting Date  | Meeting Time| Completed Before Meeting  | Discuss at Meeting |\n",
    "|---|---|---|---|\n",
    "| 1/20  |  7 PM | Read & Think about COGS 108 expectations; brainstorm topics/questions  | Determine best form of communication; Discuss and decide on final project topic; discuss hypothesis; begin background research | \n",
    "| 1/27  |  7 PM |  Do background research on topic | Discuss ideal dataset(s) and ethics; draft project proposal | \n",
    "| 2/3  | 7 PM  | Edit, finalize, and submit proposal; Search for datasets  | Discuss Wrangling and possible analytical approaches; Assign group members to lead each specific part   |\n",
    "| 2/10  | 7 PM    |  TBD | Discuss/edit, complete check-in 1|\n",
    "| 2/17  | 7 PM    | Import & Wrangle Data; EDA | Review/Edit wrangling/EDA; Discuss Analysis Plan   |\n",
    "| 2/24  | 7 PM   | Finalize wrangling/EDA; Begin Analysis  | Discuss/edit Analysis; Complete project check-in |\n",
    "| 3/03  | 7 PM   | more analysis; Draft results/conclusion/discussion | Discuss/edit full project |\n",
    "| 3/10  | 7 PM   | Complete analysis; Draft results/conclusion/discussion | Discuss/edit full project |\n",
    "| 3/17  | Before 11:59 PM  | NA | Turn in Final Project & Group Project Surveys |"
   ]
  }
 ],
 "metadata": {
  "kernelspec": {
   "display_name": "Python 3",
   "language": "python",
   "name": "python3"
  },
  "language_info": {
   "codemirror_mode": {
    "name": "ipython",
    "version": 3
   },
   "file_extension": ".py",
   "mimetype": "text/x-python",
   "name": "python",
   "nbconvert_exporter": "python",
   "pygments_lexer": "ipython3",
   "version": "3.8.5"
  }
 },
 "nbformat": 4,
 "nbformat_minor": 2
}
