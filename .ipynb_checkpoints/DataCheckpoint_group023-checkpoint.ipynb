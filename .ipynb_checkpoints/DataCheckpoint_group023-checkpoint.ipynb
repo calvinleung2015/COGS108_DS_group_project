{
 "cells": [
  {
   "cell_type": "markdown",
   "metadata": {},
   "source": [
    "# COGS 108 - Data Checkpoint"
   ]
  },
  {
   "cell_type": "markdown",
   "metadata": {},
   "source": [
    "# Names\n",
    "\n",
    "- Cassandra Henrickson\n",
    "- Daniel Han\n",
    "- Ezra Lu\n",
    "- Jasmine Qiang\n",
    "- Wing Leung (Calvin)"
   ]
  },
  {
   "cell_type": "markdown",
   "metadata": {},
   "source": [
    "<a id='research_question'></a>\n",
    "# Research Question"
   ]
  },
  {
   "cell_type": "markdown",
   "metadata": {},
   "source": [
    "How do different weather conditions (rain, fog, clouds, or clear) affect the severity of car accidents in California?"
   ]
  },
  {
   "cell_type": "markdown",
   "metadata": {},
   "source": [
    "# Dataset(s)"
   ]
  },
  {
   "cell_type": "markdown",
   "metadata": {},
   "source": [
    "*Fill in your dataset information here*\n",
    "\n",
    "(Copy this information for each dataset)\n",
    "- Dataset Name: US Accidents \n",
    "- Link to the dataset: https://www.kaggle.com/sobhanmoosavi/us-accidents?select=US_Accidents_Dec20.csv\n",
    "- Number of observations: 4232541 \n",
    "\n",
    "1-2 sentences describing each dataset. \n",
    "\n",
    "This dataset is a collection of car accident data across 49 US states from February 2016 to December 2020, taken from traffic APIs. It describes different variables present at each accident, including weather condition, severity of traffic jam caused by the accident, time of the accident (via start and end of the traffic jam), and location. \n",
    "\n",
    "\n",
    "If you plan to use multiple datasets, add 1-2 sentences about how you plan to combine these datasets."
   ]
  },
  {
   "cell_type": "markdown",
   "metadata": {},
   "source": [
    "# Setup"
   ]
  },
  {
   "cell_type": "code",
   "execution_count": 3,
   "metadata": {},
   "outputs": [],
   "source": [
    "## YOUR CODE HERE\n",
    "# Import seaborn and apply its plotting styles\n",
    "import seaborn as sns\n",
    "sns.set(style=\"white\", font_scale=2)\n",
    "\n",
    "# import matplotlib\n",
    "import matplotlib as mpl\n",
    "import matplotlib.pyplot as plt\n",
    "# set plotting size parameter\n",
    "plt.rcParams['figure.figsize'] = (17, 7)\n",
    "\n",
    "# make sure pandas & numpy are imported\n",
    "import pandas as pd\n",
    "import numpy as np\n",
    "\n",
    "import warnings\n",
    "warnings.filterwarnings('ignore')\n",
    "\n",
    "#improve resolution\n",
    "#comment this line if erroring on your machine/screen\n",
    "%config InlineBackend.figure_format ='retina'\n"
   ]
  },
  {
   "cell_type": "code",
   "execution_count": 9,
   "metadata": {},
   "outputs": [],
   "source": [
    "df = pd.read_csv('US_Accidents_Dec20.csv')"
   ]
  },
  {
   "cell_type": "code",
   "execution_count": 10,
   "metadata": {},
   "outputs": [
    {
     "data": {
      "text/plain": [
       "<bound method DataFrame.sum of                 ID    Source    TMC  Severity           Start_Time  \\\n",
       "0              A-1  MapQuest  201.0         3  2016-02-08 05:46:00   \n",
       "1              A-2  MapQuest  201.0         2  2016-02-08 06:07:59   \n",
       "2              A-3  MapQuest  201.0         2  2016-02-08 06:49:27   \n",
       "3              A-4  MapQuest  201.0         3  2016-02-08 07:23:34   \n",
       "4              A-5  MapQuest  201.0         2  2016-02-08 07:39:07   \n",
       "...            ...       ...    ...       ...                  ...   \n",
       "4232536  A-4239402      Bing    NaN         2  2019-08-23 18:03:25   \n",
       "4232537  A-4239403      Bing    NaN         2  2019-08-23 19:11:30   \n",
       "4232538  A-4239404      Bing    NaN         2  2019-08-23 19:00:21   \n",
       "4232539  A-4239405      Bing    NaN         2  2019-08-23 19:00:21   \n",
       "4232540  A-4239406      Bing    NaN         2  2019-08-23 18:52:06   \n",
       "\n",
       "                    End_Time  Start_Lat   Start_Lng   End_Lat    End_Lng  ...  \\\n",
       "0        2016-02-08 11:00:00  39.865147  -84.058723       NaN        NaN  ...   \n",
       "1        2016-02-08 06:37:59  39.928059  -82.831184       NaN        NaN  ...   \n",
       "2        2016-02-08 07:19:27  39.063148  -84.032608       NaN        NaN  ...   \n",
       "3        2016-02-08 07:53:34  39.747753  -84.205582       NaN        NaN  ...   \n",
       "4        2016-02-08 08:09:07  39.627781  -84.188354       NaN        NaN  ...   \n",
       "...                      ...        ...         ...       ...        ...  ...   \n",
       "4232536  2019-08-23 18:32:01  34.002480 -117.379360  33.99888 -117.37094  ...   \n",
       "4232537  2019-08-23 19:38:23  32.766960 -117.148060  32.76555 -117.15363  ...   \n",
       "4232538  2019-08-23 19:28:49  33.775450 -117.847790  33.77740 -117.85727  ...   \n",
       "4232539  2019-08-23 19:29:42  33.992460 -118.403020  33.98311 -118.39565  ...   \n",
       "4232540  2019-08-23 19:21:31  34.133930 -117.230920  34.13736 -117.23934  ...   \n",
       "\n",
       "         Roundabout Station   Stop Traffic_Calming Traffic_Signal  \\\n",
       "0             False   False  False           False          False   \n",
       "1             False   False  False           False          False   \n",
       "2             False   False  False           False           True   \n",
       "3             False   False  False           False          False   \n",
       "4             False   False  False           False           True   \n",
       "...             ...     ...    ...             ...            ...   \n",
       "4232536       False   False  False           False          False   \n",
       "4232537       False   False  False           False          False   \n",
       "4232538       False   False  False           False          False   \n",
       "4232539       False   False  False           False          False   \n",
       "4232540       False   False  False           False          False   \n",
       "\n",
       "        Turning_Loop Sunrise_Sunset Civil_Twilight Nautical_Twilight  \\\n",
       "0              False          Night          Night             Night   \n",
       "1              False          Night          Night             Night   \n",
       "2              False          Night          Night               Day   \n",
       "3              False          Night            Day               Day   \n",
       "4              False            Day            Day               Day   \n",
       "...              ...            ...            ...               ...   \n",
       "4232536        False            Day            Day               Day   \n",
       "4232537        False            Day            Day               Day   \n",
       "4232538        False            Day            Day               Day   \n",
       "4232539        False            Day            Day               Day   \n",
       "4232540        False            Day            Day               Day   \n",
       "\n",
       "        Astronomical_Twilight  \n",
       "0                       Night  \n",
       "1                         Day  \n",
       "2                         Day  \n",
       "3                         Day  \n",
       "4                         Day  \n",
       "...                       ...  \n",
       "4232536                   Day  \n",
       "4232537                   Day  \n",
       "4232538                   Day  \n",
       "4232539                   Day  \n",
       "4232540                   Day  \n",
       "\n",
       "[4232541 rows x 49 columns]>"
      ]
     },
     "execution_count": 10,
     "metadata": {},
     "output_type": "execute_result"
    }
   ],
   "source": [
    "df.sum"
   ]
  },
  {
   "cell_type": "code",
   "execution_count": 6,
   "metadata": {},
   "outputs": [
    {
     "data": {
      "text/plain": [
       "<bound method NDFrame.head of                 ID    Source    TMC  Severity           Start_Time  \\\n",
       "0              A-1  MapQuest  201.0         3  2016-02-08 05:46:00   \n",
       "1              A-2  MapQuest  201.0         2  2016-02-08 06:07:59   \n",
       "2              A-3  MapQuest  201.0         2  2016-02-08 06:49:27   \n",
       "3              A-4  MapQuest  201.0         3  2016-02-08 07:23:34   \n",
       "4              A-5  MapQuest  201.0         2  2016-02-08 07:39:07   \n",
       "...            ...       ...    ...       ...                  ...   \n",
       "4232536  A-4239402      Bing    NaN         2  2019-08-23 18:03:25   \n",
       "4232537  A-4239403      Bing    NaN         2  2019-08-23 19:11:30   \n",
       "4232538  A-4239404      Bing    NaN         2  2019-08-23 19:00:21   \n",
       "4232539  A-4239405      Bing    NaN         2  2019-08-23 19:00:21   \n",
       "4232540  A-4239406      Bing    NaN         2  2019-08-23 18:52:06   \n",
       "\n",
       "                    End_Time  Start_Lat   Start_Lng   End_Lat    End_Lng  ...  \\\n",
       "0        2016-02-08 11:00:00  39.865147  -84.058723       NaN        NaN  ...   \n",
       "1        2016-02-08 06:37:59  39.928059  -82.831184       NaN        NaN  ...   \n",
       "2        2016-02-08 07:19:27  39.063148  -84.032608       NaN        NaN  ...   \n",
       "3        2016-02-08 07:53:34  39.747753  -84.205582       NaN        NaN  ...   \n",
       "4        2016-02-08 08:09:07  39.627781  -84.188354       NaN        NaN  ...   \n",
       "...                      ...        ...         ...       ...        ...  ...   \n",
       "4232536  2019-08-23 18:32:01  34.002480 -117.379360  33.99888 -117.37094  ...   \n",
       "4232537  2019-08-23 19:38:23  32.766960 -117.148060  32.76555 -117.15363  ...   \n",
       "4232538  2019-08-23 19:28:49  33.775450 -117.847790  33.77740 -117.85727  ...   \n",
       "4232539  2019-08-23 19:29:42  33.992460 -118.403020  33.98311 -118.39565  ...   \n",
       "4232540  2019-08-23 19:21:31  34.133930 -117.230920  34.13736 -117.23934  ...   \n",
       "\n",
       "         Roundabout Station   Stop Traffic_Calming Traffic_Signal  \\\n",
       "0             False   False  False           False          False   \n",
       "1             False   False  False           False          False   \n",
       "2             False   False  False           False           True   \n",
       "3             False   False  False           False          False   \n",
       "4             False   False  False           False           True   \n",
       "...             ...     ...    ...             ...            ...   \n",
       "4232536       False   False  False           False          False   \n",
       "4232537       False   False  False           False          False   \n",
       "4232538       False   False  False           False          False   \n",
       "4232539       False   False  False           False          False   \n",
       "4232540       False   False  False           False          False   \n",
       "\n",
       "        Turning_Loop Sunrise_Sunset Civil_Twilight Nautical_Twilight  \\\n",
       "0              False          Night          Night             Night   \n",
       "1              False          Night          Night             Night   \n",
       "2              False          Night          Night               Day   \n",
       "3              False          Night            Day               Day   \n",
       "4              False            Day            Day               Day   \n",
       "...              ...            ...            ...               ...   \n",
       "4232536        False            Day            Day               Day   \n",
       "4232537        False            Day            Day               Day   \n",
       "4232538        False            Day            Day               Day   \n",
       "4232539        False            Day            Day               Day   \n",
       "4232540        False            Day            Day               Day   \n",
       "\n",
       "        Astronomical_Twilight  \n",
       "0                       Night  \n",
       "1                         Day  \n",
       "2                         Day  \n",
       "3                         Day  \n",
       "4                         Day  \n",
       "...                       ...  \n",
       "4232536                   Day  \n",
       "4232537                   Day  \n",
       "4232538                   Day  \n",
       "4232539                   Day  \n",
       "4232540                   Day  \n",
       "\n",
       "[4232541 rows x 49 columns]>"
      ]
     },
     "execution_count": 6,
     "metadata": {},
     "output_type": "execute_result"
    }
   ],
   "source": [
    "df.head"
   ]
  },
  {
   "cell_type": "markdown",
   "metadata": {},
   "source": [
    "# Data Cleaning"
   ]
  },
  {
   "cell_type": "markdown",
   "metadata": {},
   "source": [
    "Describe your data cleaning steps here."
   ]
  },
  {
   "cell_type": "code",
   "execution_count": 7,
   "metadata": {},
   "outputs": [],
   "source": [
    "## YOUR CODE HERE\n",
    "## FEEL FREE TO ADD MULTIPLE CELLS PER SECTION\n",
    "\n"
   ]
  },
  {
   "cell_type": "code",
   "execution_count": 8,
   "metadata": {},
   "outputs": [
    {
     "data": {
      "text/plain": [
       "972585"
      ]
     },
     "execution_count": 8,
     "metadata": {},
     "output_type": "execute_result"
    }
   ],
   "source": [
    "# CA has 971856 accidents\n",
    "a = df[df[\"State\"] == 'CA']\n",
    "accident_california = a['State'].count()\n",
    "accident_california"
   ]
  },
  {
   "cell_type": "code",
   "execution_count": 11,
   "metadata": {},
   "outputs": [],
   "source": [
    "#slicing df to only include columns we need - Severity, State, and Weather Condition\n",
    "df = df.loc[:, ['Severity', 'State', 'Weather_Condition']]\n",
    "\n",
    "#slicing to only get car accidents that happened in California\n",
    "df = df.loc[df['State'] == 'CA']"
   ]
  },
  {
   "cell_type": "code",
   "execution_count": 12,
   "metadata": {},
   "outputs": [],
   "source": [
    "#slicing df to only include car accident observations with certain weather conditions\n",
    "df = df.loc[(df['Weather_Condition'] =='Rain') \\\n",
    "            | (df['Weather_Condition'] == 'Light Rain') \\\n",
    "            | (df['Weather_Condition'] == 'Fog') \\\n",
    "            | (df['Weather_Condition'] == 'Cloudy') \\\n",
    "            | (df['Weather_Condition'] == 'Overcast') \\\n",
    "            | (df['Weather_Condition'] == 'Clear')]"
   ]
  },
  {
   "cell_type": "code",
   "execution_count": 13,
   "metadata": {},
   "outputs": [
    {
     "data": {
      "text/html": [
       "<div>\n",
       "<style scoped>\n",
       "    .dataframe tbody tr th:only-of-type {\n",
       "        vertical-align: middle;\n",
       "    }\n",
       "\n",
       "    .dataframe tbody tr th {\n",
       "        vertical-align: top;\n",
       "    }\n",
       "\n",
       "    .dataframe thead th {\n",
       "        text-align: right;\n",
       "    }\n",
       "</style>\n",
       "<table border=\"1\" class=\"dataframe\">\n",
       "  <thead>\n",
       "    <tr style=\"text-align: right;\">\n",
       "      <th></th>\n",
       "      <th>Severity</th>\n",
       "      <th>State</th>\n",
       "      <th>Weather_Condition</th>\n",
       "    </tr>\n",
       "  </thead>\n",
       "  <tbody>\n",
       "    <tr>\n",
       "      <th>728</th>\n",
       "      <td>3</td>\n",
       "      <td>CA</td>\n",
       "      <td>Clear</td>\n",
       "    </tr>\n",
       "    <tr>\n",
       "      <th>729</th>\n",
       "      <td>3</td>\n",
       "      <td>CA</td>\n",
       "      <td>Clear</td>\n",
       "    </tr>\n",
       "    <tr>\n",
       "      <th>730</th>\n",
       "      <td>2</td>\n",
       "      <td>CA</td>\n",
       "      <td>Clear</td>\n",
       "    </tr>\n",
       "    <tr>\n",
       "      <th>731</th>\n",
       "      <td>3</td>\n",
       "      <td>CA</td>\n",
       "      <td>Clear</td>\n",
       "    </tr>\n",
       "    <tr>\n",
       "      <th>732</th>\n",
       "      <td>2</td>\n",
       "      <td>CA</td>\n",
       "      <td>Clear</td>\n",
       "    </tr>\n",
       "    <tr>\n",
       "      <th>...</th>\n",
       "      <td>...</td>\n",
       "      <td>...</td>\n",
       "      <td>...</td>\n",
       "    </tr>\n",
       "    <tr>\n",
       "      <th>4232087</th>\n",
       "      <td>3</td>\n",
       "      <td>CA</td>\n",
       "      <td>Cloudy</td>\n",
       "    </tr>\n",
       "    <tr>\n",
       "      <th>4232091</th>\n",
       "      <td>2</td>\n",
       "      <td>CA</td>\n",
       "      <td>Cloudy</td>\n",
       "    </tr>\n",
       "    <tr>\n",
       "      <th>4232504</th>\n",
       "      <td>3</td>\n",
       "      <td>CA</td>\n",
       "      <td>Cloudy</td>\n",
       "    </tr>\n",
       "    <tr>\n",
       "      <th>4232505</th>\n",
       "      <td>2</td>\n",
       "      <td>CA</td>\n",
       "      <td>Cloudy</td>\n",
       "    </tr>\n",
       "    <tr>\n",
       "      <th>4232506</th>\n",
       "      <td>3</td>\n",
       "      <td>CA</td>\n",
       "      <td>Cloudy</td>\n",
       "    </tr>\n",
       "  </tbody>\n",
       "</table>\n",
       "<p>421384 rows × 3 columns</p>\n",
       "</div>"
      ],
      "text/plain": [
       "         Severity State Weather_Condition\n",
       "728             3    CA             Clear\n",
       "729             3    CA             Clear\n",
       "730             2    CA             Clear\n",
       "731             3    CA             Clear\n",
       "732             2    CA             Clear\n",
       "...           ...   ...               ...\n",
       "4232087         3    CA            Cloudy\n",
       "4232091         2    CA            Cloudy\n",
       "4232504         3    CA            Cloudy\n",
       "4232505         2    CA            Cloudy\n",
       "4232506         3    CA            Cloudy\n",
       "\n",
       "[421384 rows x 3 columns]"
      ]
     },
     "execution_count": 13,
     "metadata": {},
     "output_type": "execute_result"
    }
   ],
   "source": [
    "#show cleaned df of car accident data                                                               \n",
    "df"
   ]
  },
  {
   "cell_type": "markdown",
   "metadata": {},
   "source": [
    "# Project Proposal (updated)"
   ]
  },
  {
   "cell_type": "markdown",
   "metadata": {},
   "source": [
    "| Meeting Date  | Meeting Time| Completed Before Meeting  | Discuss at Meeting |\n",
    "|---|---|---|---|\n",
    "| 1/20  |  7 PM | Read & Think about COGS 108 expectations; brainstorm topics/questions  | Determine best form of communication; Discuss and decide on final project topic; discuss hypothesis; begin background research | \n",
    "| 1/27  |  7 PM |  Do background research on topic | Discuss ideal dataset(s) and ethics; draft project proposal | \n",
    "| 2/3  | 7 PM  | Edit, finalize, and submit proposal; Search for datasets  | Discuss Wrangling and possible analytical approaches; Assign group members to lead each specific part   |\n",
    "| 2/10  | 7 PM    |  finish finding data and writing code, etc | Discuss/edit, complete check-in 1: Data|\n",
    "| 2/17  | 7 PM    | Import & Wrangle Data; EDA | Review/Edit wrangling/EDA; Discuss Analysis Plan   |\n",
    "| 2/24  | 7 PM   | Finalize wrangling/EDA; Begin Analysis  | Discuss/edit Analysis; Complete project check-in: EDA |\n",
    "| 3/03  | 7 PM   | more analysis; Draft results/conclusion/discussion | Discuss/edit full project |\n",
    "| 3/10  | 7 PM   | Complete analysis; Draft results/conclusion/discussion | Discuss/edit full project |\n",
    "| 3/17  | Before 11:59 PM  | NA | Turn in Final Project & Group Project Surveys |"
   ]
  }
 ],
 "metadata": {
  "kernelspec": {
   "display_name": "Python 3",
   "language": "python",
   "name": "python3"
  },
  "language_info": {
   "codemirror_mode": {
    "name": "ipython",
    "version": 3
   },
   "file_extension": ".py",
   "mimetype": "text/x-python",
   "name": "python",
   "nbconvert_exporter": "python",
   "pygments_lexer": "ipython3",
   "version": "3.8.5"
  }
 },
 "nbformat": 4,
 "nbformat_minor": 2
}
